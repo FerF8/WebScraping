{
  "nbformat": 4,
  "nbformat_minor": 0,
  "metadata": {
    "colab": {
      "provenance": [],
      "include_colab_link": true
    },
    "kernelspec": {
      "name": "python3",
      "display_name": "Python 3"
    },
    "language_info": {
      "name": "python"
    }
  },
  "cells": [
    {
      "cell_type": "markdown",
      "metadata": {
        "id": "view-in-github",
        "colab_type": "text"
      },
      "source": [
        "<a href=\"https://colab.research.google.com/github/FerF8/WebScraping/blob/main/WebScrappingFer.ipynb\" target=\"_parent\"><img src=\"https://colab.research.google.com/assets/colab-badge.svg\" alt=\"Open In Colab\"/></a>"
      ]
    },
    {
      "cell_type": "code",
      "source": [
        "import requests\n",
        "from bs4 import BeautifulSoup\n",
        "import pandas as pd"
      ],
      "metadata": {
        "id": "la9EyuraDob9"
      },
      "execution_count": 14,
      "outputs": []
    },
    {
      "cell_type": "code",
      "source": [
        "from google.colab import drive\n",
        "drive.mount('/content/drive')"
      ],
      "metadata": {
        "colab": {
          "base_uri": "https://localhost:8080/"
        },
        "id": "xtcoHTxUVJ1b",
        "outputId": "b2617d50-fc23-4761-e2b2-7ffafd7845fa"
      },
      "execution_count": 13,
      "outputs": [
        {
          "output_type": "stream",
          "name": "stdout",
          "text": [
            "Mounted at /content/drive\n"
          ]
        }
      ]
    },
    {
      "cell_type": "code",
      "source": [
        "data_titles = pd.read_excel('/content/drive/MyDrive/Colab Notebooks/20211030 Test Assignment/Input.xlsx')\n",
        "data_titles"
      ],
      "metadata": {
        "colab": {
          "base_uri": "https://localhost:8080/",
          "height": 424
        },
        "id": "A-u-2bmRVSK4",
        "outputId": "dcbf22aa-ff0a-4512-a4ac-ff8808aecbcd"
      },
      "execution_count": 22,
      "outputs": [
        {
          "output_type": "execute_result",
          "data": {
            "text/plain": [
              "     URL_ID                                                URL\n",
              "0        37  https://insights.blackcoffer.com/ai-in-healthc...\n",
              "1        38  https://insights.blackcoffer.com/what-if-the-c...\n",
              "2        39  https://insights.blackcoffer.com/what-jobs-wil...\n",
              "3        40  https://insights.blackcoffer.com/will-machine-...\n",
              "4        41  https://insights.blackcoffer.com/will-ai-repla...\n",
              "..      ...                                                ...\n",
              "109     146  https://insights.blackcoffer.com/blockchain-fo...\n",
              "110     147  https://insights.blackcoffer.com/the-future-of...\n",
              "111     148  https://insights.blackcoffer.com/big-data-anal...\n",
              "112     149  https://insights.blackcoffer.com/business-anal...\n",
              "113     150  https://insights.blackcoffer.com/challenges-an...\n",
              "\n",
              "[114 rows x 2 columns]"
            ],
            "text/html": [
              "\n",
              "  <div id=\"df-b57764f6-b6cd-4bec-947e-38beeaa6bea4\">\n",
              "    <div class=\"colab-df-container\">\n",
              "      <div>\n",
              "<style scoped>\n",
              "    .dataframe tbody tr th:only-of-type {\n",
              "        vertical-align: middle;\n",
              "    }\n",
              "\n",
              "    .dataframe tbody tr th {\n",
              "        vertical-align: top;\n",
              "    }\n",
              "\n",
              "    .dataframe thead th {\n",
              "        text-align: right;\n",
              "    }\n",
              "</style>\n",
              "<table border=\"1\" class=\"dataframe\">\n",
              "  <thead>\n",
              "    <tr style=\"text-align: right;\">\n",
              "      <th></th>\n",
              "      <th>URL_ID</th>\n",
              "      <th>URL</th>\n",
              "    </tr>\n",
              "  </thead>\n",
              "  <tbody>\n",
              "    <tr>\n",
              "      <th>0</th>\n",
              "      <td>37</td>\n",
              "      <td>https://insights.blackcoffer.com/ai-in-healthc...</td>\n",
              "    </tr>\n",
              "    <tr>\n",
              "      <th>1</th>\n",
              "      <td>38</td>\n",
              "      <td>https://insights.blackcoffer.com/what-if-the-c...</td>\n",
              "    </tr>\n",
              "    <tr>\n",
              "      <th>2</th>\n",
              "      <td>39</td>\n",
              "      <td>https://insights.blackcoffer.com/what-jobs-wil...</td>\n",
              "    </tr>\n",
              "    <tr>\n",
              "      <th>3</th>\n",
              "      <td>40</td>\n",
              "      <td>https://insights.blackcoffer.com/will-machine-...</td>\n",
              "    </tr>\n",
              "    <tr>\n",
              "      <th>4</th>\n",
              "      <td>41</td>\n",
              "      <td>https://insights.blackcoffer.com/will-ai-repla...</td>\n",
              "    </tr>\n",
              "    <tr>\n",
              "      <th>...</th>\n",
              "      <td>...</td>\n",
              "      <td>...</td>\n",
              "    </tr>\n",
              "    <tr>\n",
              "      <th>109</th>\n",
              "      <td>146</td>\n",
              "      <td>https://insights.blackcoffer.com/blockchain-fo...</td>\n",
              "    </tr>\n",
              "    <tr>\n",
              "      <th>110</th>\n",
              "      <td>147</td>\n",
              "      <td>https://insights.blackcoffer.com/the-future-of...</td>\n",
              "    </tr>\n",
              "    <tr>\n",
              "      <th>111</th>\n",
              "      <td>148</td>\n",
              "      <td>https://insights.blackcoffer.com/big-data-anal...</td>\n",
              "    </tr>\n",
              "    <tr>\n",
              "      <th>112</th>\n",
              "      <td>149</td>\n",
              "      <td>https://insights.blackcoffer.com/business-anal...</td>\n",
              "    </tr>\n",
              "    <tr>\n",
              "      <th>113</th>\n",
              "      <td>150</td>\n",
              "      <td>https://insights.blackcoffer.com/challenges-an...</td>\n",
              "    </tr>\n",
              "  </tbody>\n",
              "</table>\n",
              "<p>114 rows × 2 columns</p>\n",
              "</div>\n",
              "      <button class=\"colab-df-convert\" onclick=\"convertToInteractive('df-b57764f6-b6cd-4bec-947e-38beeaa6bea4')\"\n",
              "              title=\"Convert this dataframe to an interactive table.\"\n",
              "              style=\"display:none;\">\n",
              "        \n",
              "  <svg xmlns=\"http://www.w3.org/2000/svg\" height=\"24px\"viewBox=\"0 0 24 24\"\n",
              "       width=\"24px\">\n",
              "    <path d=\"M0 0h24v24H0V0z\" fill=\"none\"/>\n",
              "    <path d=\"M18.56 5.44l.94 2.06.94-2.06 2.06-.94-2.06-.94-.94-2.06-.94 2.06-2.06.94zm-11 1L8.5 8.5l.94-2.06 2.06-.94-2.06-.94L8.5 2.5l-.94 2.06-2.06.94zm10 10l.94 2.06.94-2.06 2.06-.94-2.06-.94-.94-2.06-.94 2.06-2.06.94z\"/><path d=\"M17.41 7.96l-1.37-1.37c-.4-.4-.92-.59-1.43-.59-.52 0-1.04.2-1.43.59L10.3 9.45l-7.72 7.72c-.78.78-.78 2.05 0 2.83L4 21.41c.39.39.9.59 1.41.59.51 0 1.02-.2 1.41-.59l7.78-7.78 2.81-2.81c.8-.78.8-2.07 0-2.86zM5.41 20L4 18.59l7.72-7.72 1.47 1.35L5.41 20z\"/>\n",
              "  </svg>\n",
              "      </button>\n",
              "      \n",
              "  <style>\n",
              "    .colab-df-container {\n",
              "      display:flex;\n",
              "      flex-wrap:wrap;\n",
              "      gap: 12px;\n",
              "    }\n",
              "\n",
              "    .colab-df-convert {\n",
              "      background-color: #E8F0FE;\n",
              "      border: none;\n",
              "      border-radius: 50%;\n",
              "      cursor: pointer;\n",
              "      display: none;\n",
              "      fill: #1967D2;\n",
              "      height: 32px;\n",
              "      padding: 0 0 0 0;\n",
              "      width: 32px;\n",
              "    }\n",
              "\n",
              "    .colab-df-convert:hover {\n",
              "      background-color: #E2EBFA;\n",
              "      box-shadow: 0px 1px 2px rgba(60, 64, 67, 0.3), 0px 1px 3px 1px rgba(60, 64, 67, 0.15);\n",
              "      fill: #174EA6;\n",
              "    }\n",
              "\n",
              "    [theme=dark] .colab-df-convert {\n",
              "      background-color: #3B4455;\n",
              "      fill: #D2E3FC;\n",
              "    }\n",
              "\n",
              "    [theme=dark] .colab-df-convert:hover {\n",
              "      background-color: #434B5C;\n",
              "      box-shadow: 0px 1px 3px 1px rgba(0, 0, 0, 0.15);\n",
              "      filter: drop-shadow(0px 1px 2px rgba(0, 0, 0, 0.3));\n",
              "      fill: #FFFFFF;\n",
              "    }\n",
              "  </style>\n",
              "\n",
              "      <script>\n",
              "        const buttonEl =\n",
              "          document.querySelector('#df-b57764f6-b6cd-4bec-947e-38beeaa6bea4 button.colab-df-convert');\n",
              "        buttonEl.style.display =\n",
              "          google.colab.kernel.accessAllowed ? 'block' : 'none';\n",
              "\n",
              "        async function convertToInteractive(key) {\n",
              "          const element = document.querySelector('#df-b57764f6-b6cd-4bec-947e-38beeaa6bea4');\n",
              "          const dataTable =\n",
              "            await google.colab.kernel.invokeFunction('convertToInteractive',\n",
              "                                                     [key], {});\n",
              "          if (!dataTable) return;\n",
              "\n",
              "          const docLinkHtml = 'Like what you see? Visit the ' +\n",
              "            '<a target=\"_blank\" href=https://colab.research.google.com/notebooks/data_table.ipynb>data table notebook</a>'\n",
              "            + ' to learn more about interactive tables.';\n",
              "          element.innerHTML = '';\n",
              "          dataTable['output_type'] = 'display_data';\n",
              "          await google.colab.output.renderOutput(dataTable, element);\n",
              "          const docLink = document.createElement('div');\n",
              "          docLink.innerHTML = docLinkHtml;\n",
              "          element.appendChild(docLink);\n",
              "        }\n",
              "      </script>\n",
              "    </div>\n",
              "  </div>\n",
              "  "
            ]
          },
          "metadata": {},
          "execution_count": 22
        }
      ]
    },
    {
      "cell_type": "code",
      "source": [
        "for _, row in data_titles.iterrows():\n",
        "  with open(str(row['URL_ID'])+'.txt', \"a\") as file:\n",
        "    # URL to scrape\n",
        "    url = row['URL']\n",
        "    # Send an HTTP request to the URL\n",
        "    response = requests.get(url)\n",
        "    # Parse the HTML content using BeautifulSoup\n",
        "    soup = BeautifulSoup(response.content, 'html.parser')\n",
        "    # Extract the title of the page\n",
        "    title = soup.title.string.split('|')[0]\n",
        "    #include Title in the file\n",
        "    file.write(title+'\\n')\n",
        "    # Extract the body of the page\n",
        "    body = soup.body.get_text()\n",
        "    # Find the paragraph element by class name\n",
        "    paragraph = soup.find_all('p',class_=False)\n",
        "    #get only text of each paragraph\n",
        "    for item in paragraph:\n",
        "        # print(item.get_text())\n",
        "        file.write(item.get_text()+'\\n')"
      ],
      "metadata": {
        "id": "xg4tzXxJcPvV"
      },
      "execution_count": 50,
      "outputs": []
    },
    {
      "cell_type": "code",
      "source": [
        "# with open(str(data_titles['URL_ID'][0])+'.txt', \"a\") as file:\n",
        "#     file.write(\"This is an example text file.\"+'\\n')"
      ],
      "metadata": {
        "id": "TWtGCAyZW2Up"
      },
      "execution_count": 44,
      "outputs": []
    },
    {
      "cell_type": "code",
      "source": [
        "# for _, url in data_titles.iterrows():\n",
        "#   print(url['URL'])"
      ],
      "metadata": {
        "id": "7_BRlTCYWLGv"
      },
      "execution_count": null,
      "outputs": []
    },
    {
      "cell_type": "code",
      "source": [
        "# with open(str(data_titles['URL_ID'][0])+'.txt', \"a\") as file:\n",
        "#     # URL to scrape\n",
        "#     url = data_titles['URL'][0]\n",
        "#     # Send an HTTP request to the URL\n",
        "#     response = requests.get(url)\n",
        "#     # Parse the HTML content using BeautifulSoup\n",
        "#     soup = BeautifulSoup(response.content, 'html.parser')\n",
        "#     # Extract the title of the page\n",
        "#     title = soup.title.string.split('|')[0]\n",
        "#     #include Title in the file\n",
        "#     file.write(title+'\\n')\n",
        "#     # Extract the body of the page\n",
        "#     body = soup.body.get_text()\n",
        "#     # Find the paragraph element by class name\n",
        "#     paragraph = soup.find_all('p',class_=False)\n",
        "#     #get only text of each paragraph\n",
        "#     for item in paragraph:\n",
        "#         # print(item.get_text())\n",
        "#         file.write(item.get_text()+'\\n')"
      ],
      "metadata": {
        "id": "qJDgAEwybKIS"
      },
      "execution_count": 48,
      "outputs": []
    },
    {
      "cell_type": "code",
      "execution_count": 4,
      "metadata": {
        "colab": {
          "base_uri": "https://localhost:8080/"
        },
        "id": "ZRK08oRKCyvZ",
        "outputId": "37b5181b-fedf-48e3-c396-dcdb6720a40a"
      },
      "outputs": [
        {
          "output_type": "stream",
          "name": "stdout",
          "text": [
            "Title:  Blockchain in Fintech | Blackcoffer Insights\n"
          ]
        }
      ],
      "source": [
        "# URL to scrape\n",
        "url = data_titles['URL'][0]\n",
        "\n",
        "# Send an HTTP request to the URL\n",
        "response = requests.get(url)\n",
        "\n",
        "# Parse the HTML content using BeautifulSoup\n",
        "soup = BeautifulSoup(response.content, 'html.parser')\n",
        "\n",
        "# Extract the title of the page\n",
        "title = soup.title.string\n",
        "\n",
        "# Extract the body of the page\n",
        "body = soup.body.get_text()\n",
        "\n",
        "# Print the title and body\n",
        "# print('Title: ', title)\n",
        "#print('Body: ', body)"
      ]
    },
    {
      "cell_type": "code",
      "source": [
        "# Find the paragraph element by class name\n",
        "paragraph = soup.find_all('p',class_=False)\n",
        "# Print the text content of the paragraph\n",
        "print(paragraph)"
      ],
      "metadata": {
        "colab": {
          "base_uri": "https://localhost:8080/"
        },
        "id": "brOSgMkkC8ES",
        "outputId": "b94b0a4e-5a82-4da6-edbd-861ff493b3f1"
      },
      "execution_count": 5,
      "outputs": [
        {
          "output_type": "stream",
          "name": "stdout",
          "text": [
            "[<p></p>, <p>Blockchain or the Distributed Ledger Technology has\n",
            "already been around for some time now. Cryptocurrencies like Bitcoin, based on\n",
            "the Blockchain technology, are making entry into the formal finance world and\n",
            "increasingly becoming a medium for exchange. Though there are many potential\n",
            "use cases for Cryptocurrencies and the Indian Government is very critical about\n",
            "implementing the technology in banking and finance, it still has a lot of\n",
            "issues to be resolved before we can commercially use it for transactions. </p>, <p>Some of the most important drawbacks of\n",
            "Cryptocurrencies like Bitcoin right now are as below:</p>, <p>So, it becomes important to have a cheaply available\n",
            "validation mechanism that can be carried out using a basic broadband connection\n",
            "in-home/small business computers. If two people have personal transaction\n",
            "history, it’s unimportant that it should be posted on the main blockchain every\n",
            "time a transaction takes place as it could bloat up the blockchain. Moreover,\n",
            "everyday transactions using cryptocurrency is not possible as the cost of\n",
            "posting a transaction for. Let’s say buying a coffee, can be more than the\n",
            "price of coffee itself.</p>, <p>Lightning Network is the latest disruptive technology\n",
            "being researched currently in Fintech to make cryptocurrencies scalable. It\n",
            "basically adds\n",
            "an extra layer on top of the main Bitcoin Blockchain and enables payment\n",
            "channels between two parties over this layer. Micropayments for everyday\n",
            "transactions can be very easily carried out using this channel. Here is how it\n",
            "works:</p>, <p>Suppose A buys a coffee\n",
            "from the nearby coffee shop B daily on her way to work. A and B decide to open\n",
            "a channel on the Blockchain for their everyday transactions. Once the channel\n",
            "(or the Lightning Network) is open, the two parties can keep a track of their\n",
            "daily transactions on this ledger. At the end of the month, with the ledger\n",
            "reflecting balances left with each party, they decide to close the channel.\n",
            "This final transaction is then recorded on the main Bitcoin Blockchain. This\n",
            "reduces the cost of the transaction and enables micropayments for everyday\n",
            "transactions.  Micropayment channels can defer updating the main\n",
            "blockchain with remaining balances at a later date. A large network of\n",
            "micropayments can be created as a secondary layer on top of the main blockchain\n",
            "to address the scalability issue and reduce transaction fees. Although this solution\n",
            "is very much in the initial stages, resolving the scalability issue and\n",
            "reducing transaction fees by taking the transaction out of the main blockchain\n",
            "will give a big boost to the use of Cryptocurrencies.</p>, <p>The two parties exchange a single key for validation\n",
            "of their spend transactions. They can conduct an unlimited number of transactions\n",
            "on this channel and finally when one party closes the channel, the balances\n",
            "will be added to the blockchain.</p>, <p>The network is globally scalable since to reach any\n",
            "person through connected channels network, you just need to know the path to\n",
            "connect to that person through leveraging your existing network. Once the\n",
            "network develops in future, the requirement to open a separate channel too\n",
            "would cease to exist since the algorithm will automatically find the shortest\n",
            "route to connect to the person whom you want to pay based on the exhaustive\n",
            "peer to peer network. This would ease inter-country transactions and money can\n",
            "be sent across internationally within seconds.</p>, <p>Since the channel for Lightning Network is separate and not connected with the main Blockchain, it will not be backed by the security of the original Blockchain. This can be a major concern for its widespread adoption and the companies should research extensively into this. Another challenge is its dependency on the internet. The Lightning Network is not capable of storing coins digitally in a hardware wallet. This makes it prone to hackers since the wallet will be available online. Also, transferring large amounts of money is something that needs further detailed research, since bigger payment might struggle with routing in the network.</p>, <p>Nevertheless, this technology is really fascinating and has a very broad usage through the implementation of Bitcoins and Distributed Ledger in everyday life. Once this is rolled out for customer experience, micropayments will be possible between two parties on Blockchain, just as we currently have wallets to transfer money for small purchases. The Lightning Network has a long way to go and is surely going to become the next big disruption in Fintech domain after Blockchain.</p>]\n"
          ]
        }
      ]
    },
    {
      "cell_type": "code",
      "source": [
        "len(paragraph)"
      ],
      "metadata": {
        "colab": {
          "base_uri": "https://localhost:8080/"
        },
        "id": "0I_xf026LHLx",
        "outputId": "91facaf7-1984-4199-e7d9-ff35d3c4c330"
      },
      "execution_count": 6,
      "outputs": [
        {
          "output_type": "execute_result",
          "data": {
            "text/plain": [
              "10"
            ]
          },
          "metadata": {},
          "execution_count": 6
        }
      ]
    },
    {
      "cell_type": "code",
      "source": [
        "type(paragraph)"
      ],
      "metadata": {
        "colab": {
          "base_uri": "https://localhost:8080/"
        },
        "id": "rU8lIPLfPh9S",
        "outputId": "79fad536-14df-4bf1-95dd-36142751f22f"
      },
      "execution_count": 7,
      "outputs": [
        {
          "output_type": "execute_result",
          "data": {
            "text/plain": [
              "bs4.element.ResultSet"
            ]
          },
          "metadata": {},
          "execution_count": 7
        }
      ]
    },
    {
      "cell_type": "code",
      "source": [
        "for item in paragraph:\n",
        "  print(item)"
      ],
      "metadata": {
        "colab": {
          "base_uri": "https://localhost:8080/"
        },
        "id": "zXbtxId5PQd9",
        "outputId": "91149312-2771-43b7-83b1-2e422be7235c"
      },
      "execution_count": 8,
      "outputs": [
        {
          "output_type": "stream",
          "name": "stdout",
          "text": [
            "<p></p>\n",
            "<p>Blockchain or the Distributed Ledger Technology has\n",
            "already been around for some time now. Cryptocurrencies like Bitcoin, based on\n",
            "the Blockchain technology, are making entry into the formal finance world and\n",
            "increasingly becoming a medium for exchange. Though there are many potential\n",
            "use cases for Cryptocurrencies and the Indian Government is very critical about\n",
            "implementing the technology in banking and finance, it still has a lot of\n",
            "issues to be resolved before we can commercially use it for transactions. </p>\n",
            "<p>Some of the most important drawbacks of\n",
            "Cryptocurrencies like Bitcoin right now are as below:</p>\n",
            "<p>So, it becomes important to have a cheaply available\n",
            "validation mechanism that can be carried out using a basic broadband connection\n",
            "in-home/small business computers. If two people have personal transaction\n",
            "history, it’s unimportant that it should be posted on the main blockchain every\n",
            "time a transaction takes place as it could bloat up the blockchain. Moreover,\n",
            "everyday transactions using cryptocurrency is not possible as the cost of\n",
            "posting a transaction for. Let’s say buying a coffee, can be more than the\n",
            "price of coffee itself.</p>\n",
            "<p>Lightning Network is the latest disruptive technology\n",
            "being researched currently in Fintech to make cryptocurrencies scalable. It\n",
            "basically adds\n",
            "an extra layer on top of the main Bitcoin Blockchain and enables payment\n",
            "channels between two parties over this layer. Micropayments for everyday\n",
            "transactions can be very easily carried out using this channel. Here is how it\n",
            "works:</p>\n",
            "<p>Suppose A buys a coffee\n",
            "from the nearby coffee shop B daily on her way to work. A and B decide to open\n",
            "a channel on the Blockchain for their everyday transactions. Once the channel\n",
            "(or the Lightning Network) is open, the two parties can keep a track of their\n",
            "daily transactions on this ledger. At the end of the month, with the ledger\n",
            "reflecting balances left with each party, they decide to close the channel.\n",
            "This final transaction is then recorded on the main Bitcoin Blockchain. This\n",
            "reduces the cost of the transaction and enables micropayments for everyday\n",
            "transactions.  Micropayment channels can defer updating the main\n",
            "blockchain with remaining balances at a later date. A large network of\n",
            "micropayments can be created as a secondary layer on top of the main blockchain\n",
            "to address the scalability issue and reduce transaction fees. Although this solution\n",
            "is very much in the initial stages, resolving the scalability issue and\n",
            "reducing transaction fees by taking the transaction out of the main blockchain\n",
            "will give a big boost to the use of Cryptocurrencies.</p>\n",
            "<p>The two parties exchange a single key for validation\n",
            "of their spend transactions. They can conduct an unlimited number of transactions\n",
            "on this channel and finally when one party closes the channel, the balances\n",
            "will be added to the blockchain.</p>\n",
            "<p>The network is globally scalable since to reach any\n",
            "person through connected channels network, you just need to know the path to\n",
            "connect to that person through leveraging your existing network. Once the\n",
            "network develops in future, the requirement to open a separate channel too\n",
            "would cease to exist since the algorithm will automatically find the shortest\n",
            "route to connect to the person whom you want to pay based on the exhaustive\n",
            "peer to peer network. This would ease inter-country transactions and money can\n",
            "be sent across internationally within seconds.</p>\n",
            "<p>Since the channel for Lightning Network is separate and not connected with the main Blockchain, it will not be backed by the security of the original Blockchain. This can be a major concern for its widespread adoption and the companies should research extensively into this. Another challenge is its dependency on the internet. The Lightning Network is not capable of storing coins digitally in a hardware wallet. This makes it prone to hackers since the wallet will be available online. Also, transferring large amounts of money is something that needs further detailed research, since bigger payment might struggle with routing in the network.</p>\n",
            "<p>Nevertheless, this technology is really fascinating and has a very broad usage through the implementation of Bitcoins and Distributed Ledger in everyday life. Once this is rolled out for customer experience, micropayments will be possible between two parties on Blockchain, just as we currently have wallets to transfer money for small purchases. The Lightning Network has a long way to go and is surely going to become the next big disruption in Fintech domain after Blockchain.</p>\n"
          ]
        }
      ]
    },
    {
      "cell_type": "code",
      "source": [
        "type(paragraph[0])"
      ],
      "metadata": {
        "colab": {
          "base_uri": "https://localhost:8080/"
        },
        "id": "w3zIWhvFPeUe",
        "outputId": "dcdb9d0f-0809-4ed3-c036-db574961071d"
      },
      "execution_count": 12,
      "outputs": [
        {
          "output_type": "execute_result",
          "data": {
            "text/plain": [
              "bs4.element.Tag"
            ]
          },
          "metadata": {},
          "execution_count": 12
        }
      ]
    },
    {
      "cell_type": "code",
      "source": [
        "for item in paragraph:\n",
        "    print(item.get_text())\n"
      ],
      "metadata": {
        "colab": {
          "base_uri": "https://localhost:8080/"
        },
        "id": "PvU-BWOGP3AI",
        "outputId": "33e38baf-05e1-4654-84bc-5a1b3d332e3f"
      },
      "execution_count": 10,
      "outputs": [
        {
          "output_type": "stream",
          "name": "stdout",
          "text": [
            "\n",
            "Blockchain or the Distributed Ledger Technology has\n",
            "already been around for some time now. Cryptocurrencies like Bitcoin, based on\n",
            "the Blockchain technology, are making entry into the formal finance world and\n",
            "increasingly becoming a medium for exchange. Though there are many potential\n",
            "use cases for Cryptocurrencies and the Indian Government is very critical about\n",
            "implementing the technology in banking and finance, it still has a lot of\n",
            "issues to be resolved before we can commercially use it for transactions. \n",
            "Some of the most important drawbacks of\n",
            "Cryptocurrencies like Bitcoin right now are as below:\n",
            "So, it becomes important to have a cheaply available\n",
            "validation mechanism that can be carried out using a basic broadband connection\n",
            "in-home/small business computers. If two people have personal transaction\n",
            "history, it’s unimportant that it should be posted on the main blockchain every\n",
            "time a transaction takes place as it could bloat up the blockchain. Moreover,\n",
            "everyday transactions using cryptocurrency is not possible as the cost of\n",
            "posting a transaction for. Let’s say buying a coffee, can be more than the\n",
            "price of coffee itself.\n",
            "Lightning Network is the latest disruptive technology\n",
            "being researched currently in Fintech to make cryptocurrencies scalable. It\n",
            "basically adds\n",
            "an extra layer on top of the main Bitcoin Blockchain and enables payment\n",
            "channels between two parties over this layer. Micropayments for everyday\n",
            "transactions can be very easily carried out using this channel. Here is how it\n",
            "works:\n",
            "Suppose A buys a coffee\n",
            "from the nearby coffee shop B daily on her way to work. A and B decide to open\n",
            "a channel on the Blockchain for their everyday transactions. Once the channel\n",
            "(or the Lightning Network) is open, the two parties can keep a track of their\n",
            "daily transactions on this ledger. At the end of the month, with the ledger\n",
            "reflecting balances left with each party, they decide to close the channel.\n",
            "This final transaction is then recorded on the main Bitcoin Blockchain. This\n",
            "reduces the cost of the transaction and enables micropayments for everyday\n",
            "transactions.  Micropayment channels can defer updating the main\n",
            "blockchain with remaining balances at a later date. A large network of\n",
            "micropayments can be created as a secondary layer on top of the main blockchain\n",
            "to address the scalability issue and reduce transaction fees. Although this solution\n",
            "is very much in the initial stages, resolving the scalability issue and\n",
            "reducing transaction fees by taking the transaction out of the main blockchain\n",
            "will give a big boost to the use of Cryptocurrencies.\n",
            "The two parties exchange a single key for validation\n",
            "of their spend transactions. They can conduct an unlimited number of transactions\n",
            "on this channel and finally when one party closes the channel, the balances\n",
            "will be added to the blockchain.\n",
            "The network is globally scalable since to reach any\n",
            "person through connected channels network, you just need to know the path to\n",
            "connect to that person through leveraging your existing network. Once the\n",
            "network develops in future, the requirement to open a separate channel too\n",
            "would cease to exist since the algorithm will automatically find the shortest\n",
            "route to connect to the person whom you want to pay based on the exhaustive\n",
            "peer to peer network. This would ease inter-country transactions and money can\n",
            "be sent across internationally within seconds.\n",
            "Since the channel for Lightning Network is separate and not connected with the main Blockchain, it will not be backed by the security of the original Blockchain. This can be a major concern for its widespread adoption and the companies should research extensively into this. Another challenge is its dependency on the internet. The Lightning Network is not capable of storing coins digitally in a hardware wallet. This makes it prone to hackers since the wallet will be available online. Also, transferring large amounts of money is something that needs further detailed research, since bigger payment might struggle with routing in the network.\n",
            "Nevertheless, this technology is really fascinating and has a very broad usage through the implementation of Bitcoins and Distributed Ledger in everyday life. Once this is rolled out for customer experience, micropayments will be possible between two parties on Blockchain, just as we currently have wallets to transfer money for small purchases. The Lightning Network has a long way to go and is surely going to become the next big disruption in Fintech domain after Blockchain.\n"
          ]
        }
      ]
    },
    {
      "cell_type": "code",
      "source": [
        "for item in paragraph:\n",
        "    print(len(item.get_text()))"
      ],
      "metadata": {
        "colab": {
          "base_uri": "https://localhost:8080/"
        },
        "id": "QyLMDje4RRw5",
        "outputId": "b0d821d7-d330-4c2b-a8b4-e0382fce7604"
      },
      "execution_count": 11,
      "outputs": [
        {
          "output_type": "stream",
          "name": "stdout",
          "text": [
            "0\n",
            "514\n",
            "93\n",
            "537\n",
            "376\n",
            "1068\n",
            "243\n",
            "557\n",
            "645\n",
            "479\n"
          ]
        }
      ]
    },
    {
      "cell_type": "code",
      "source": [],
      "metadata": {
        "id": "dwszZDNdRpVy"
      },
      "execution_count": null,
      "outputs": []
    }
  ]
}